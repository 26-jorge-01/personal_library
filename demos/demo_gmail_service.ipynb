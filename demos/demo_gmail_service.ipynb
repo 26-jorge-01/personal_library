{
 "cells": [
  {
   "cell_type": "code",
   "execution_count": 2,
   "metadata": {},
   "outputs": [],
   "source": [
    "import sys"
   ]
  },
  {
   "cell_type": "code",
   "execution_count": 3,
   "metadata": {},
   "outputs": [],
   "source": [
    "from config.notebook_location import find_project_root"
   ]
  },
  {
   "cell_type": "code",
   "execution_count": 4,
   "metadata": {},
   "outputs": [
    {
     "name": "stdout",
     "output_type": "stream",
     "text": [
      "Project root added to sys.path: d:\\Espacios de trabajo\\personal-library\n"
     ]
    }
   ],
   "source": [
    "# Definir el nombre del directorio del proyecto\n",
    "project_name = \"personal-library\"\n",
    "\n",
    "# Encontrar la raíz del proyecto\n",
    "project_root = find_project_root(project_name)\n",
    "\n",
    "# Agregar la raíz del proyecto al principio de sys.path para facilitar las importaciones\n",
    "sys.path.insert(0, project_root)\n",
    "print(\"Project root added to sys.path:\", project_root)"
   ]
  },
  {
   "cell_type": "code",
   "execution_count": 5,
   "metadata": {},
   "outputs": [],
   "source": [
    "from utils.google.gmail import GmailService"
   ]
  },
  {
   "cell_type": "code",
   "execution_count": 7,
   "metadata": {},
   "outputs": [
    {
     "name": "stdout",
     "output_type": "stream",
     "text": [
      "Please visit this URL to authorize this application: https://accounts.google.com/o/oauth2/auth?response_type=code&client_id=455273452281-ndq4tkiftmi0a74hfha516tj0ojch3j7.apps.googleusercontent.com&redirect_uri=http%3A%2F%2Flocalhost%3A53487%2F&scope=https%3A%2F%2Fwww.googleapis.com%2Fauth%2Fgmail.modify+https%3A%2F%2Fwww.googleapis.com%2Fauth%2Fgmail.send+https%3A%2F%2Fwww.googleapis.com%2Fauth%2Fgmail.labels+https%3A%2F%2Fwww.googleapis.com%2Fauth%2Fgmail.readonly&state=YmDSobzRWYfcvDRQ4nMMKX9RuomkgZ&access_type=offline\n"
     ]
    },
    {
     "name": "stderr",
     "output_type": "stream",
     "text": [
      "INFO:google_auth_oauthlib.flow:\"GET /?state=YmDSobzRWYfcvDRQ4nMMKX9RuomkgZ&code=4/0AQSTgQFBvKnscouBVZ4wcTvZHsMujFvbfAucVpgOwCazt3XURp1ShN7hW3-2zcRjUIwUYw&scope=https://www.googleapis.com/auth/gmail.readonly%20https://www.googleapis.com/auth/gmail.send%20https://www.googleapis.com/auth/gmail.labels%20https://www.googleapis.com/auth/gmail.modify HTTP/1.1\" 200 65\n",
      "INFO:googleapiclient.discovery_cache:file_cache is only supported with oauth2client<4.0.0\n",
      "INFO:utils.google.base:Servicio gmail v1 creado correctamente.\n"
     ]
    }
   ],
   "source": [
    "gmail = GmailService(credentials_file='../utils/google/config/credentials.json', token_file='../utils/google/config/token.pickle')"
   ]
  },
  {
   "cell_type": "code",
   "execution_count": 8,
   "metadata": {},
   "outputs": [
    {
     "name": "stdout",
     "output_type": "stream",
     "text": [
      "Perfil de Gmail:\n",
      "{'emailAddress': 'jonan0804@gmail.com', 'messagesTotal': 4993, 'threadsTotal': 4605, 'historyId': '3637648'}\n"
     ]
    }
   ],
   "source": [
    "# Ejemplo: Obtener el perfil de la cuenta\n",
    "profile = gmail.get_profile()\n",
    "if profile:\n",
    "    print(\"Perfil de Gmail:\")\n",
    "    print(profile)"
   ]
  },
  {
   "cell_type": "code",
   "execution_count": 9,
   "metadata": {},
   "outputs": [
    {
     "name": "stdout",
     "output_type": "stream",
     "text": [
      "Etiquetas:\n",
      "- CHAT\n",
      "- SENT\n",
      "- INBOX\n",
      "- IMPORTANT\n",
      "- TRASH\n",
      "- DRAFT\n",
      "- SPAM\n",
      "- CATEGORY_FORUMS\n",
      "- CATEGORY_UPDATES\n",
      "- CATEGORY_PERSONAL\n",
      "- CATEGORY_PROMOTIONS\n",
      "- CATEGORY_SOCIAL\n",
      "- STARRED\n",
      "- UNREAD\n",
      "- Finanzas/Recibos de pago/ADDI\n",
      "- Salud/Psicología\n",
      "- Apto Bochica\n",
      "- Finanzas/Recibos de pago/Avianca\n",
      "- Trabajo/FINAC\n",
      "- Proyectos/MAPI\n",
      "- Diversión/Viajes\n",
      "- Trabajo/TRU\n",
      "- Educación/Pregrado\n",
      "- Educación\n",
      "- Trabajo/Complementos/Parafiscales\n",
      "- Finanzas/Recibos de pago/Colsubsidio\n",
      "- Trabajo/ICFES\n",
      "- Trabajo/ESAP/Solicitudes\n",
      "- Finanzas/Recibos de pago/Netflix\n",
      "- Finanzas/Recibos de pago/Congresos\n",
      "- Trabajo/ESAP\n",
      "- Finanzas/Recibos de pago/Mercado libre\n",
      "- Diversión/Ejercicio\n",
      "- Finanzas/Recibos de pago/Laika\n",
      "- Finanzas/Pensiones\n",
      "- Finanzas/Recibos de pago/Salud\n",
      "- Trabajo\n",
      "- Finanzas\n",
      "- Trabajo/UC\n",
      "- Salud/Prepagada Jordan\n",
      "- Finanzas/Recibos de pago/Docs para el trabajo\n",
      "- Finanzas/Recibos de pago/Apple\n",
      "- Finanzas/Recibos de pago\n",
      "- Finanzas/Recibos de pago/Olimpica\n",
      "- Finanzas/Recibos de pago/Claro\n",
      "- Finanzas/Recibos de pago/Curso ingles\n",
      "- Finanzas/Recibos de pago/Maestria\n",
      "- Finanzas/Recibos de pago/ETB\n",
      "- Salud\n",
      "- Trabajo/ANCP-CCE\n",
      "- Salud/Exámenes ocupacionales\n",
      "- Finanzas/Falabella\n",
      "- Trabajo/MeLi\n",
      "- Finanzas/Recibos de pago/SURA\n",
      "- Finanzas/Recibos de pago/Alkosto\n",
      "- Instaladores\n",
      "- Finanzas/Recibos de pago/Inglés\n",
      "- Diversión\n",
      "- Educación/Finanzas\n",
      "- Salud/Sanitas\n",
      "- Finanzas/Caja social\n",
      "- Finanzas/Recibos de pago/Movistar\n",
      "- Finanzas/Recibos de pago/Bodytech\n",
      "- Finanzas/Recibos de pago/Pasaporte\n",
      "- Finanzas/Recibos de pago/AWS\n",
      "- Educación/Trabajo\n",
      "- Finanzas/Colsubsidio\n",
      "- Educación/Maestría\n",
      "- Proyectos\n",
      "- Educación/Inglés\n",
      "- Trabajo/Complementos\n",
      "- Finanzas/Recibos de pago/Falabella\n",
      "- Trabajo/SuperProf\n"
     ]
    }
   ],
   "source": [
    "# Ejemplo: Listar etiquetas\n",
    "labels = gmail.list_labels()\n",
    "if labels:\n",
    "    print(\"Etiquetas:\")\n",
    "    for label in labels:\n",
    "        print(f\"- {label.get('name')}\")"
   ]
  },
  {
   "cell_type": "code",
   "execution_count": 10,
   "metadata": {},
   "outputs": [
    {
     "name": "stdout",
     "output_type": "stream",
     "text": [
      "IDs de mensajes no leídos:\n",
      "- 195f139f8ea9e4c7\n",
      "- 195f139c74d2cba1\n",
      "- 195f0fb97c423b92\n",
      "- 195f0fb967eae1a1\n",
      "- 195f0fb7ef04902a\n",
      "- 195f0fb6d88c17ea\n",
      "- 195f0fb5d3f0e823\n",
      "- 195f0fb523f221ec\n",
      "- 195f0faf7b2d51f7\n",
      "- 195f0fada1ca501a\n"
     ]
    }
   ],
   "source": [
    "# Ejemplo: Listar IDs de mensajes no leídos (puedes modificar el query)\n",
    "messages = gmail.list_messages(query=\"is:unread\", max_results=10)\n",
    "if messages:\n",
    "    print(\"IDs de mensajes no leídos:\")\n",
    "    for msg in messages:\n",
    "        print(f\"- {msg.get('id')}\")"
   ]
  },
  {
   "cell_type": "code",
   "execution_count": null,
   "metadata": {},
   "outputs": [],
   "source": []
  }
 ],
 "metadata": {
  "kernelspec": {
   "display_name": ".venv",
   "language": "python",
   "name": "python3"
  },
  "language_info": {
   "codemirror_mode": {
    "name": "ipython",
    "version": 3
   },
   "file_extension": ".py",
   "mimetype": "text/x-python",
   "name": "python",
   "nbconvert_exporter": "python",
   "pygments_lexer": "ipython3",
   "version": "3.11.9"
  }
 },
 "nbformat": 4,
 "nbformat_minor": 2
}
