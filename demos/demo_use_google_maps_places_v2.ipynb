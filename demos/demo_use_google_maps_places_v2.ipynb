{
 "cells": [
  {
   "cell_type": "code",
   "execution_count": 1,
   "metadata": {},
   "outputs": [
    {
     "data": {
      "text/plain": [
       "True"
      ]
     },
     "execution_count": 1,
     "metadata": {},
     "output_type": "execute_result"
    }
   ],
   "source": [
    "import sys\n",
    "import os\n",
    "from dotenv import load_dotenv\n",
    "load_dotenv()"
   ]
  },
  {
   "cell_type": "code",
   "execution_count": 2,
   "metadata": {},
   "outputs": [],
   "source": [
    "from config.notebook_location import find_project_root"
   ]
  },
  {
   "cell_type": "code",
   "execution_count": 3,
   "metadata": {},
   "outputs": [
    {
     "name": "stdout",
     "output_type": "stream",
     "text": [
      "Project root added to sys.path: d:\\Espacios de trabajo\\personal-library\n"
     ]
    }
   ],
   "source": [
    "# Definir el nombre del directorio del proyecto\n",
    "project_name = \"personal-library\"\n",
    "\n",
    "# Encontrar la raíz del proyecto\n",
    "project_root = find_project_root(project_name)\n",
    "\n",
    "# Agregar la raíz del proyecto al principio de sys.path para facilitar las importaciones\n",
    "sys.path.insert(0, project_root)\n",
    "print(\"Project root added to sys.path:\", project_root)"
   ]
  },
  {
   "cell_type": "code",
   "execution_count": 4,
   "metadata": {},
   "outputs": [],
   "source": [
    "from utils.google.maps_places_v2 import GoogleMapsPlacesService"
   ]
  },
  {
   "cell_type": "code",
   "execution_count": 5,
   "metadata": {},
   "outputs": [],
   "source": [
    "# Puedes definir tu autenticación mediante API key o mediante access token.\n",
    "# Por ejemplo, para usar API key:\n",
    "#   api_key = os.getenv(\"GOOGLE_MAPS_API_KEY\")\n",
    "#   places = GoogleMapsPlacesService(api_key=api_key)\n",
    "#\n",
    "# O, para usar access token:\n",
    "#   token = os.getenv(\"GOOGLE_MAPS_ACCESS_TOKEN\")\n",
    "#   places = GoogleMapsPlacesService(access_token=token)"
   ]
  },
  {
   "cell_type": "code",
   "execution_count": 6,
   "metadata": {},
   "outputs": [],
   "source": [
    "places = GoogleMapsPlacesService(api_key=os.getenv(\"MAPS_PLACES_V2_API_KEY\"))"
   ]
  },
  {
   "cell_type": "code",
   "execution_count": 7,
   "metadata": {},
   "outputs": [
    {
     "name": "stdout",
     "output_type": "stream",
     "text": [
      "Resultados de búsqueda por texto:\n",
      "- Gramercy Tavern (42 E 20th St, New York, NY 10003, Estados Unidos)\n",
      "- Manhatta (28 Liberty St 60th floor, New York, NY 10005, Estados Unidos)\n",
      "- The Modern (9 W 53rd St, New York, NY 10019, Estados Unidos)\n",
      "- Carmine's - Time Square (200 W 44th St, New York, NY 10036, Estados Unidos)\n",
      "- Upland (345 Park Ave S, New York, NY 10010, Estados Unidos)\n",
      "- Boucherie Union Square (225 Park Ave S, New York, NY 10003, Estados Unidos)\n",
      "- The Smith (1150 Broadway, New York, NY 10001, Estados Unidos)\n",
      "- Piccola Cucina Osteria Siciliana (196 Spring St, New York, NY 10012, Estados Unidos)\n",
      "- Olió e piu (3 Greenwich Ave, New York, NY 10014, Estados Unidos)\n",
      "- Boucherie West Village (99 7th Ave S, New York, NY 10014, Estados Unidos)\n",
      "- RH Rooftop Restaurant at RH New York (9 9th Ave, New York, NY 10014, Estados Unidos)\n",
      "- Le Bernardin (155 W 51st St, New York, NY 10019, Estados Unidos)\n",
      "- COTE Korean Steakhouse (16 W 22nd St, New York, NY 10010, Estados Unidos)\n",
      "- Eataly (101 Liberty St, New York, NY 10007, Estados Unidos)\n",
      "- Lindens (2 Renwick St, New York, NY 10013, Estados Unidos)\n",
      "- Crown Shy (70 Pine St Ground Floor, New York, NY 10005, Estados Unidos)\n",
      "- Via Carota (51 Grove St, New York, NY 10014, Estados Unidos)\n",
      "- Atera (77 Worth St, New York, NY 10013, Estados Unidos)\n",
      "- Osteria Barocca (133 Mulberry St, New York, NY 10013, Estados Unidos)\n",
      "- Le Coucou (138 Lafayette St, New York, NY 10013, Estados Unidos)\n"
     ]
    }
   ],
   "source": [
    "# Ejemplo 1: Búsqueda por texto\n",
    "text_results = places.text_search(\"restaurants in New York\", language=\"es\")\n",
    "if text_results:\n",
    "    print(\"Resultados de búsqueda por texto:\")\n",
    "    for place in text_results.get(\"results\", []):\n",
    "        print(f\"- {place.get('name')} ({place.get('formatted_address')})\")"
   ]
  },
  {
   "cell_type": "code",
   "execution_count": 8,
   "metadata": {},
   "outputs": [
    {
     "name": "stdout",
     "output_type": "stream",
     "text": [
      "\n",
      "Resultados de búsqueda cercana:\n",
      "- Kimpton Hotel Eventi\n",
      "- Oohu Szechuan & Canton Cuisines\n",
      "- Keens Steakhouse\n",
      "- Ai Fiori\n",
      "- Stout NYC\n",
      "- Café China\n",
      "- Wolfgang's Steakhouse - Park Avenue New York City\n",
      "- Comfort Inn Manhattan\n",
      "- The Kunjip | Korean BBQ NYC\n",
      "- Hangawi\n",
      "- Franchia Vegan Café\n",
      "- Woorijip\n",
      "- The Liberty NYC\n",
      "- The Cutting Room\n",
      "- Maialino (vicino)\n",
      "- Cho Dang Gol\n",
      "- Jerusalem Cafe\n",
      "- Szechuan Gourmet\n",
      "- Scarpetta\n",
      "- Dons Bogam\n"
     ]
    }
   ],
   "source": [
    "# Ejemplo 2: Búsqueda cercana\n",
    "nearby_results = places.nearby_search(\"40.748817,-73.985428\", radius=500, type=\"restaurant\")\n",
    "if nearby_results:\n",
    "    print(\"\\nResultados de búsqueda cercana:\")\n",
    "    for place in nearby_results.get(\"results\", []):\n",
    "        print(f\"- {place.get('name')}\")"
   ]
  },
  {
   "cell_type": "code",
   "execution_count": 9,
   "metadata": {},
   "outputs": [
    {
     "name": "stdout",
     "output_type": "stream",
     "text": [
      "\n",
      "Detalles del lugar:\n",
      "{'formatted_phone_number': '(212) 477-0777', 'name': 'Gramercy Tavern', 'rating': 4.6}\n"
     ]
    }
   ],
   "source": [
    "# Ejemplo 3: Detalles de un lugar (usa un place_id válido obtenido en alguna búsqueda)\n",
    "if text_results and text_results.get(\"results\"):\n",
    "    sample_place = text_results[\"results\"][0]\n",
    "    place_id = sample_place.get(\"place_id\")\n",
    "    details = places.place_details(place_id, language=\"es\", fields=\"name,rating,formatted_phone_number\")\n",
    "    if details:\n",
    "        print(\"\\nDetalles del lugar:\")\n",
    "        print(details.get(\"result\"))"
   ]
  },
  {
   "cell_type": "code",
   "execution_count": 14,
   "metadata": {},
   "outputs": [
    {
     "name": "stdout",
     "output_type": "stream",
     "text": [
      "\n",
      "Resultados de autocompletar:\n",
      "- Eiffel Tower, Avenue Gustave Eiffel, Paris, France\n",
      "- Eiffel Tower Bahria Town Lahore, Bahria Town Main Boulevard, Violet Block Bahria Town, Lahore, Pakistan\n",
      "- Eiffel Tower Viewing Deck, Las Vegas Boulevard South, Las Vegas, NV, USA\n",
      "- Eiffel Tower, Avenue Anatole France, Paris, France\n",
      "- Eiffel Tower Bahria Town Karachi, Jinnah Avenue, Gadap Town, Karachi, Pakistan\n"
     ]
    }
   ],
   "source": [
    "# Ejemplo 4: Autocompletar\n",
    "autocomplete_results = places.place_autocomplete(\"Eiffel Tower\", language=\"en\")\n",
    "if autocomplete_results:\n",
    "    print(\"\\nResultados de autocompletar:\")\n",
    "    for prediction in autocomplete_results.get(\"predictions\", []):\n",
    "        print(f\"- {prediction.get('description')}\")"
   ]
  },
  {
   "cell_type": "code",
   "execution_count": null,
   "metadata": {},
   "outputs": [
    {
     "name": "stdout",
     "output_type": "stream",
     "text": [
      "Reseñas obtenidas:\n",
      "- JA CL: Muy buen ambiente, la decoración bien entretenida con un bar muy bien armado y tres barmen bien atentos. Llegando tuvimos que esperar mesa así que nos acercamos al bar y pedimos unos tragos. Luego en la mesa el mozo nos atendió muy bien y nos recomendó varios platos. El menú si lo vi pequeño no había tanta variedad pero estaba bien. Pedimos un piqueo frío muy rico y luego los segundos que no me pareció espectacular.\n",
      "- Carlos Pascual: Uno de esos sitios al que te encantaría volver.\n",
      "\n",
      "Hay que tener en cuenta que el restaurante tiene dos zonas diferenciadas, the tavern y the dinning room. En la primera no tienes una experiencia de alto restaurante pero la comida estaba espectacular y con unos precios más accesibles.\n",
      "\n",
      "Probamos la ensalada de repollo y la hamburguesa, un acierto. Los doughnut de postre son de otra liga.\n",
      "- marga martínez: Lugar que me recomendaron por la calidad y así fue.\n",
      "Muy buena la comida y se nota que cuidan sus productos\n",
      "- Jesus F. Bobadilla: Restaurante excelente. Siempre que paso por Nueva York, merece la pena tanto el Tavern como el menú del Dinning Room.\n",
      "- Elisabeth Miquel Graells: Beautiful, the food is wonderful and it is an experience. There are three tasting menus that you can choose from (whit three different prices) and everything is so enjoyable!\n",
      "\n",
      "Fantástico, la comida es maravillosa y es todo una experiencia. Hay tres menú degustacion diferentes entre los que elegir (con tres precios diferentes) y todo es ¡buenísimo!\n"
     ]
    }
   ],
   "source": [
    "# Reseñas de un lugar\n",
    "sample_place = text_results[\"results\"][0]\n",
    "place_id = sample_place.get(\"place_id\")\n",
    "reviews = places.get_reviews(place_id, language=\"es\")\n",
    "if reviews:\n",
    "    print(\"Reseñas obtenidas:\")\n",
    "    for review in reviews:\n",
    "        print(f\"- {review.get('author_name')}: {review.get('text')}\")\n",
    "else:\n",
    "    print(\"No se encontraron reseñas para este lugar.\")"
   ]
  },
  {
   "cell_type": "code",
   "execution_count": null,
   "metadata": {},
   "outputs": [],
   "source": []
  }
 ],
 "metadata": {
  "kernelspec": {
   "display_name": ".venv",
   "language": "python",
   "name": "python3"
  },
  "language_info": {
   "codemirror_mode": {
    "name": "ipython",
    "version": 3
   },
   "file_extension": ".py",
   "mimetype": "text/x-python",
   "name": "python",
   "nbconvert_exporter": "python",
   "pygments_lexer": "ipython3",
   "version": "3.11.9"
  }
 },
 "nbformat": 4,
 "nbformat_minor": 2
}
