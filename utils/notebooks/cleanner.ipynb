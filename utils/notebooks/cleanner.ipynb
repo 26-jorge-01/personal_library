{
 "cells": [
  {
   "cell_type": "code",
   "execution_count": 18,
   "metadata": {},
   "outputs": [],
   "source": [
    "import pathlib\n",
    "import fnmatch\n",
    "import shutil"
   ]
  },
  {
   "cell_type": "code",
   "execution_count": 19,
   "metadata": {},
   "outputs": [],
   "source": [
    "def find_project_root(starting_path: pathlib.Path = pathlib.Path.cwd(), marker: str = \".git\") -> pathlib.Path:\n",
    "    \"\"\"\n",
    "    Sube desde el directorio 'starting_path' hasta encontrar un directorio que contenga\n",
    "    el marcador (por defecto, \".git\"), considerándolo la raíz del proyecto.\n",
    "    Si no se encuentra, retorna 'starting_path'.\n",
    "    \"\"\"\n",
    "    current = starting_path.resolve()\n",
    "    for parent in [current] + list(current.parents):\n",
    "        if (parent / marker).exists():\n",
    "            return parent\n",
    "    return current\n",
    "\n",
    "def find_candidates(root: pathlib.Path, deletion_patterns: list) -> list:\n",
    "    \"\"\"\n",
    "    Recorre recursivamente el directorio 'root' y devuelve una lista de Path que\n",
    "    coinciden con alguno de los patrones en 'deletion_patterns'.\n",
    "    \"\"\"\n",
    "    candidates = []\n",
    "    for item in root.rglob('*'):\n",
    "        for pattern in deletion_patterns:\n",
    "            if fnmatch.fnmatch(item.name, pattern):\n",
    "                candidates.append(item)\n",
    "                break\n",
    "    return candidates\n",
    "\n",
    "def filter_exclusions(candidates: list, exclusion_patterns: list) -> list:\n",
    "    \"\"\"\n",
    "    De la lista de candidatos, filtra aquellos que coincidan con alguno de los patrones\n",
    "    en 'exclusion_patterns'. Se comprueba tanto el nombre del elemento como los nombres\n",
    "    de sus carpetas padres. Así, si se excluye el nombre de una carpeta, se omite todo su contenido.\n",
    "    \"\"\"\n",
    "    filtered = []\n",
    "    for item in candidates:\n",
    "        exclude_item = False\n",
    "        for pattern in exclusion_patterns:\n",
    "            # Comprobar si el nombre del elemento coincide con el patrón.\n",
    "            if fnmatch.fnmatch(item.name, pattern):\n",
    "                exclude_item = True\n",
    "                break\n",
    "            # Comprobar si alguno de los padres coincide.\n",
    "            for parent in item.parents:\n",
    "                if fnmatch.fnmatch(parent.name, pattern):\n",
    "                    exclude_item = True\n",
    "                    break\n",
    "            if exclude_item:\n",
    "                break\n",
    "        if not exclude_item:\n",
    "            filtered.append(item)\n",
    "    return filtered\n",
    "\n",
    "def delete_candidates(candidates: list):\n",
    "    \"\"\"\n",
    "    Elimina cada uno de los elementos de la lista 'candidates'. Para archivos o enlaces se usa unlink()\n",
    "    y para directorios se emplea shutil.rmtree.\n",
    "    \"\"\"\n",
    "    for item in candidates:\n",
    "        try:\n",
    "            if item.is_file() or item.is_symlink():\n",
    "                print(f\"Eliminando archivo: {item}\")\n",
    "                item.unlink()\n",
    "            elif item.is_dir():\n",
    "                print(f\"Eliminando carpeta: {item}\")\n",
    "                shutil.rmtree(item)\n",
    "        except Exception as e:\n",
    "            print(f\"Error al eliminar {item}: {e}\")\n",
    "\n",
    "def clean_project(root: pathlib.Path, deletion_patterns: list, exclusion_patterns: list):\n",
    "    \"\"\"\n",
    "    Función principal:\n",
    "      1. Recorre recursivamente 'root' buscando elementos que coincidan con 'deletion_patterns'.\n",
    "      2. Lista todos los elementos encontrados.\n",
    "      3. Aplica los patrones de exclusión (se verifica el nombre del elemento y de sus padres).\n",
    "      4. Muestra la lista final y pide confirmación para proceder a eliminar los elementos.\n",
    "\n",
    "    Parámetros:\n",
    "      - root: Directorio raíz desde donde comenzar la búsqueda.\n",
    "      - deletion_patterns: Lista de patrones de nombres (pueden incluir comodines, e.j., \"*.parquet\").\n",
    "      - exclusion_patterns: Lista de patrones a excluir; si se especifica el nombre de una carpeta,\n",
    "        se excluye esa carpeta y todo su contenido.\n",
    "    \"\"\"\n",
    "    print(f\"Buscando elementos en {root} que coincidan con patrones de eliminación...\")\n",
    "    candidates = find_candidates(root, deletion_patterns)\n",
    "    print(f\"Se encontraron {len(candidates)} elementos:\")\n",
    "    for item in candidates:\n",
    "        print(f\"  - {item}\")\n",
    "\n",
    "    if exclusion_patterns:\n",
    "        print(\"\\nAplicando patrones de exclusión...\")\n",
    "        final_candidates = filter_exclusions(candidates, exclusion_patterns)\n",
    "    else:\n",
    "        final_candidates = candidates\n",
    "\n",
    "    print(f\"\\nSe eliminarán {len(final_candidates)} elementos tras aplicar exclusiones:\")\n",
    "    for item in final_candidates:\n",
    "        print(f\"  - {item}\")\n",
    "\n",
    "    confirm = input(\"\\n¿Deseas proceder con la eliminación? (s/n): \")\n",
    "    if confirm.lower() == 's':\n",
    "        delete_candidates(final_candidates)\n",
    "        print(\"Proceso de limpieza completado.\")\n",
    "    else:\n",
    "        print(\"Proceso de limpieza cancelado.\")"
   ]
  },
  {
   "cell_type": "code",
   "execution_count": 20,
   "metadata": {},
   "outputs": [
    {
     "name": "stdout",
     "output_type": "stream",
     "text": [
      "Raíz del proyecto detectada: D:\\Espacios de trabajo\\personal-library\n"
     ]
    }
   ],
   "source": [
    "project_root = find_project_root(marker=\".git\")\n",
    "print(f\"Raíz del proyecto detectada: {project_root}\")"
   ]
  },
  {
   "cell_type": "code",
   "execution_count": 21,
   "metadata": {},
   "outputs": [],
   "source": [
    "# Lista de patrones de eliminación (ejemplo: archivos y carpetas que se desean borrar)\n",
    "deletion_patterns = [\"__pycache__\", \"*.parquet\"]\n",
    "\n",
    "# Lista de exclusión: si se especifica el nombre de una carpeta, se excluye esa carpeta y todo su contenido.\n",
    "exclusion_patterns = [\".venv\"]"
   ]
  },
  {
   "cell_type": "code",
   "execution_count": 22,
   "metadata": {},
   "outputs": [
    {
     "name": "stdout",
     "output_type": "stream",
     "text": [
      "Buscando elementos en D:\\Espacios de trabajo\\personal-library que coincidan con patrones de eliminación...\n",
      "Se encontraron 3 elementos:\n",
      "  - D:\\Espacios de trabajo\\personal-library\\.venv\\Lib\\site-packages\\__pycache__\n",
      "  - D:\\Espacios de trabajo\\personal-library\\.venv\\Lib\\site-packages\\win32\\lib\\__pycache__\n",
      "  - D:\\Espacios de trabajo\\personal-library\\.venv\\Lib\\site-packages\\_distutils_hack\\__pycache__\n",
      "\n",
      "Aplicando patrones de exclusión...\n",
      "\n",
      "Se eliminarán 0 elementos tras aplicar exclusiones:\n",
      "Proceso de limpieza completado.\n"
     ]
    }
   ],
   "source": [
    "# Ejecuta el proceso de limpieza a partir de la raíz del proyecto.\n",
    "clean_project(project_root, deletion_patterns, exclusion_patterns)"
   ]
  },
  {
   "cell_type": "code",
   "execution_count": null,
   "metadata": {},
   "outputs": [],
   "source": []
  }
 ],
 "metadata": {
  "kernelspec": {
   "display_name": ".venv",
   "language": "python",
   "name": "python3"
  },
  "language_info": {
   "codemirror_mode": {
    "name": "ipython",
    "version": 3
   },
   "file_extension": ".py",
   "mimetype": "text/x-python",
   "name": "python",
   "nbconvert_exporter": "python",
   "pygments_lexer": "ipython3",
   "version": "3.11.9"
  }
 },
 "nbformat": 4,
 "nbformat_minor": 2
}
